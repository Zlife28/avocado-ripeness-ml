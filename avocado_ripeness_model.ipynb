{
 "cells": [
  {
   "cell_type": "code",
   "execution_count": 19,
   "id": "a267de35-3248-4545-9136-e0c08b293ae0",
   "metadata": {},
   "outputs": [
    {
     "data": {
      "text/html": [
       "<div>\n",
       "<style scoped>\n",
       "    .dataframe tbody tr th:only-of-type {\n",
       "        vertical-align: middle;\n",
       "    }\n",
       "\n",
       "    .dataframe tbody tr th {\n",
       "        vertical-align: top;\n",
       "    }\n",
       "\n",
       "    .dataframe thead th {\n",
       "        text-align: right;\n",
       "    }\n",
       "</style>\n",
       "<table border=\"1\" class=\"dataframe\">\n",
       "  <thead>\n",
       "    <tr style=\"text-align: right;\">\n",
       "      <th></th>\n",
       "      <th>firmness</th>\n",
       "      <th>hue</th>\n",
       "      <th>saturation</th>\n",
       "      <th>brightness</th>\n",
       "      <th>color_category</th>\n",
       "      <th>sound_db</th>\n",
       "      <th>weight_g</th>\n",
       "      <th>size_cm3</th>\n",
       "      <th>ripeness</th>\n",
       "    </tr>\n",
       "  </thead>\n",
       "  <tbody>\n",
       "    <tr>\n",
       "      <th>0</th>\n",
       "      <td>14.5</td>\n",
       "      <td>19</td>\n",
       "      <td>40</td>\n",
       "      <td>26</td>\n",
       "      <td>black</td>\n",
       "      <td>34</td>\n",
       "      <td>175</td>\n",
       "      <td>261</td>\n",
       "      <td>ripe</td>\n",
       "    </tr>\n",
       "    <tr>\n",
       "      <th>1</th>\n",
       "      <td>71.7</td>\n",
       "      <td>53</td>\n",
       "      <td>69</td>\n",
       "      <td>75</td>\n",
       "      <td>green</td>\n",
       "      <td>69</td>\n",
       "      <td>206</td>\n",
       "      <td>185</td>\n",
       "      <td>pre-conditioned</td>\n",
       "    </tr>\n",
       "    <tr>\n",
       "      <th>2</th>\n",
       "      <td>88.5</td>\n",
       "      <td>60</td>\n",
       "      <td>94</td>\n",
       "      <td>46</td>\n",
       "      <td>dark green</td>\n",
       "      <td>79</td>\n",
       "      <td>220</td>\n",
       "      <td>143</td>\n",
       "      <td>hard</td>\n",
       "    </tr>\n",
       "    <tr>\n",
       "      <th>3</th>\n",
       "      <td>93.8</td>\n",
       "      <td>105</td>\n",
       "      <td>87</td>\n",
       "      <td>41</td>\n",
       "      <td>dark green</td>\n",
       "      <td>75</td>\n",
       "      <td>299</td>\n",
       "      <td>140</td>\n",
       "      <td>hard</td>\n",
       "    </tr>\n",
       "    <tr>\n",
       "      <th>4</th>\n",
       "      <td>42.5</td>\n",
       "      <td>303</td>\n",
       "      <td>58</td>\n",
       "      <td>32</td>\n",
       "      <td>purple</td>\n",
       "      <td>63</td>\n",
       "      <td>200</td>\n",
       "      <td>227</td>\n",
       "      <td>breaking</td>\n",
       "    </tr>\n",
       "  </tbody>\n",
       "</table>\n",
       "</div>"
      ],
      "text/plain": [
       "   firmness  hue  saturation  brightness color_category  sound_db  weight_g  \\\n",
       "0      14.5   19          40          26          black        34       175   \n",
       "1      71.7   53          69          75          green        69       206   \n",
       "2      88.5   60          94          46     dark green        79       220   \n",
       "3      93.8  105          87          41     dark green        75       299   \n",
       "4      42.5  303          58          32         purple        63       200   \n",
       "\n",
       "   size_cm3         ripeness  \n",
       "0       261             ripe  \n",
       "1       185  pre-conditioned  \n",
       "2       143             hard  \n",
       "3       140             hard  \n",
       "4       227         breaking  "
      ]
     },
     "execution_count": 19,
     "metadata": {},
     "output_type": "execute_result"
    }
   ],
   "source": [
    "import pandas as pd\n",
    "import numpy as np\n",
    "from sklearn.linear_model import LogisticRegression \n",
    "from sklearn.model_selection import train_test_split\n",
    "from sklearn.preprocessing import StandardScaler, OneHotEncoder\n",
    "from sklearn.compose import ColumnTransformer\n",
    "from sklearn.metrics import accuracy_score\n",
    "\n",
    "# Step 1: Load data\n",
    "avocado_data=pd.read_csv('avocado.csv')\n",
    "avocado_data.head()"
   ]
  },
  {
   "cell_type": "code",
   "execution_count": 30,
   "id": "8a7e4cca-e91f-4e6a-9e37-7bf5b6c76893",
   "metadata": {},
   "outputs": [
    {
     "data": {
      "text/html": [
       "<div>\n",
       "<style scoped>\n",
       "    .dataframe tbody tr th:only-of-type {\n",
       "        vertical-align: middle;\n",
       "    }\n",
       "\n",
       "    .dataframe tbody tr th {\n",
       "        vertical-align: top;\n",
       "    }\n",
       "\n",
       "    .dataframe thead th {\n",
       "        text-align: right;\n",
       "    }\n",
       "</style>\n",
       "<table border=\"1\" class=\"dataframe\">\n",
       "  <thead>\n",
       "    <tr style=\"text-align: right;\">\n",
       "      <th></th>\n",
       "      <th>firmness</th>\n",
       "      <th>hue</th>\n",
       "      <th>saturation</th>\n",
       "      <th>brightness</th>\n",
       "      <th>color_category</th>\n",
       "      <th>sound_db</th>\n",
       "      <th>weight_g</th>\n",
       "      <th>size_cm3</th>\n",
       "    </tr>\n",
       "  </thead>\n",
       "  <tbody>\n",
       "    <tr>\n",
       "      <th>0</th>\n",
       "      <td>14.5</td>\n",
       "      <td>19</td>\n",
       "      <td>40</td>\n",
       "      <td>26</td>\n",
       "      <td>black</td>\n",
       "      <td>34</td>\n",
       "      <td>175</td>\n",
       "      <td>261</td>\n",
       "    </tr>\n",
       "    <tr>\n",
       "      <th>1</th>\n",
       "      <td>71.7</td>\n",
       "      <td>53</td>\n",
       "      <td>69</td>\n",
       "      <td>75</td>\n",
       "      <td>green</td>\n",
       "      <td>69</td>\n",
       "      <td>206</td>\n",
       "      <td>185</td>\n",
       "    </tr>\n",
       "    <tr>\n",
       "      <th>2</th>\n",
       "      <td>88.5</td>\n",
       "      <td>60</td>\n",
       "      <td>94</td>\n",
       "      <td>46</td>\n",
       "      <td>dark green</td>\n",
       "      <td>79</td>\n",
       "      <td>220</td>\n",
       "      <td>143</td>\n",
       "    </tr>\n",
       "    <tr>\n",
       "      <th>3</th>\n",
       "      <td>93.8</td>\n",
       "      <td>105</td>\n",
       "      <td>87</td>\n",
       "      <td>41</td>\n",
       "      <td>dark green</td>\n",
       "      <td>75</td>\n",
       "      <td>299</td>\n",
       "      <td>140</td>\n",
       "    </tr>\n",
       "    <tr>\n",
       "      <th>4</th>\n",
       "      <td>42.5</td>\n",
       "      <td>303</td>\n",
       "      <td>58</td>\n",
       "      <td>32</td>\n",
       "      <td>purple</td>\n",
       "      <td>63</td>\n",
       "      <td>200</td>\n",
       "      <td>227</td>\n",
       "    </tr>\n",
       "  </tbody>\n",
       "</table>\n",
       "</div>"
      ],
      "text/plain": [
       "   firmness  hue  saturation  brightness color_category  sound_db  weight_g  \\\n",
       "0      14.5   19          40          26          black        34       175   \n",
       "1      71.7   53          69          75          green        69       206   \n",
       "2      88.5   60          94          46     dark green        79       220   \n",
       "3      93.8  105          87          41     dark green        75       299   \n",
       "4      42.5  303          58          32         purple        63       200   \n",
       "\n",
       "   size_cm3  \n",
       "0       261  \n",
       "1       185  \n",
       "2       143  \n",
       "3       140  \n",
       "4       227  "
      ]
     },
     "execution_count": 30,
     "metadata": {},
     "output_type": "execute_result"
    }
   ],
   "source": [
    "# Step 2: Split into features and label\n",
    "X = avocado_data.drop(columns=['ripeness'])\n",
    "Y = avocado_data['ripeness']\n",
    "X.head()"
   ]
  },
  {
   "cell_type": "code",
   "execution_count": 15,
   "id": "57226413-42ac-4d49-81f4-9c671d96a648",
   "metadata": {},
   "outputs": [],
   "source": [
    "# Step 3: Split the data into training and testing sets\n",
    "X_train, X_test, Y_train, Y_test = train_test_split(X, Y, test_size=0.2, random_state=42)"
   ]
  },
  {
   "cell_type": "code",
   "execution_count": 22,
   "id": "56edd38d-b267-4e5a-aceb-209595337a04",
   "metadata": {},
   "outputs": [],
   "source": [
    "# Step 4: Identify numeric and categorical columns\n",
    "categorical_cols = ['color_category'] \n",
    "numerical_cols = [col for col in X_train.columns if col not in categorical_cols]"
   ]
  },
  {
   "cell_type": "code",
   "execution_count": null,
   "id": "0275af71-887c-4659-a697-f39022dfe914",
   "metadata": {},
   "outputs": [],
   "source": [
    "# Step 5: Preprocessing pipeline\n",
    "preprocessor = ColumnTransformer(\n",
    "    transformers=[\n",
    "        ('num', StandardScaler(), numerical_cols),\n",
    "        ('cat', OneHotEncoder(drop='first'), categorical_cols)\n",
    "    ])"
   ]
  },
  {
   "cell_type": "code",
   "execution_count": 25,
   "id": "c26b3a3d-b94c-4643-b8ec-499a11a97ab8",
   "metadata": {},
   "outputs": [],
   "source": [
    "# Step 6: Apply transformations\n",
    "X_train_scaled = preprocessor.fit_transform(X_train)\n",
    "X_test_scaled = preprocessor.transform(X_test)"
   ]
  },
  {
   "cell_type": "code",
   "execution_count": 26,
   "id": "74744f88-3b5e-4c77-92da-e290a2dcee3b",
   "metadata": {},
   "outputs": [],
   "source": [
    "# Step 7: Create the model\n",
    "model = LogisticRegression()"
   ]
  },
  {
   "cell_type": "code",
   "execution_count": 28,
   "id": "6e788da8-1803-4788-8c95-d65f2555e517",
   "metadata": {},
   "outputs": [
    {
     "data": {
      "text/html": [
       "<style>#sk-container-id-1 {color: black;}#sk-container-id-1 pre{padding: 0;}#sk-container-id-1 div.sk-toggleable {background-color: white;}#sk-container-id-1 label.sk-toggleable__label {cursor: pointer;display: block;width: 100%;margin-bottom: 0;padding: 0.3em;box-sizing: border-box;text-align: center;}#sk-container-id-1 label.sk-toggleable__label-arrow:before {content: \"▸\";float: left;margin-right: 0.25em;color: #696969;}#sk-container-id-1 label.sk-toggleable__label-arrow:hover:before {color: black;}#sk-container-id-1 div.sk-estimator:hover label.sk-toggleable__label-arrow:before {color: black;}#sk-container-id-1 div.sk-toggleable__content {max-height: 0;max-width: 0;overflow: hidden;text-align: left;background-color: #f0f8ff;}#sk-container-id-1 div.sk-toggleable__content pre {margin: 0.2em;color: black;border-radius: 0.25em;background-color: #f0f8ff;}#sk-container-id-1 input.sk-toggleable__control:checked~div.sk-toggleable__content {max-height: 200px;max-width: 100%;overflow: auto;}#sk-container-id-1 input.sk-toggleable__control:checked~label.sk-toggleable__label-arrow:before {content: \"▾\";}#sk-container-id-1 div.sk-estimator input.sk-toggleable__control:checked~label.sk-toggleable__label {background-color: #d4ebff;}#sk-container-id-1 div.sk-label input.sk-toggleable__control:checked~label.sk-toggleable__label {background-color: #d4ebff;}#sk-container-id-1 input.sk-hidden--visually {border: 0;clip: rect(1px 1px 1px 1px);clip: rect(1px, 1px, 1px, 1px);height: 1px;margin: -1px;overflow: hidden;padding: 0;position: absolute;width: 1px;}#sk-container-id-1 div.sk-estimator {font-family: monospace;background-color: #f0f8ff;border: 1px dotted black;border-radius: 0.25em;box-sizing: border-box;margin-bottom: 0.5em;}#sk-container-id-1 div.sk-estimator:hover {background-color: #d4ebff;}#sk-container-id-1 div.sk-parallel-item::after {content: \"\";width: 100%;border-bottom: 1px solid gray;flex-grow: 1;}#sk-container-id-1 div.sk-label:hover label.sk-toggleable__label {background-color: #d4ebff;}#sk-container-id-1 div.sk-serial::before {content: \"\";position: absolute;border-left: 1px solid gray;box-sizing: border-box;top: 0;bottom: 0;left: 50%;z-index: 0;}#sk-container-id-1 div.sk-serial {display: flex;flex-direction: column;align-items: center;background-color: white;padding-right: 0.2em;padding-left: 0.2em;position: relative;}#sk-container-id-1 div.sk-item {position: relative;z-index: 1;}#sk-container-id-1 div.sk-parallel {display: flex;align-items: stretch;justify-content: center;background-color: white;position: relative;}#sk-container-id-1 div.sk-item::before, #sk-container-id-1 div.sk-parallel-item::before {content: \"\";position: absolute;border-left: 1px solid gray;box-sizing: border-box;top: 0;bottom: 0;left: 50%;z-index: -1;}#sk-container-id-1 div.sk-parallel-item {display: flex;flex-direction: column;z-index: 1;position: relative;background-color: white;}#sk-container-id-1 div.sk-parallel-item:first-child::after {align-self: flex-end;width: 50%;}#sk-container-id-1 div.sk-parallel-item:last-child::after {align-self: flex-start;width: 50%;}#sk-container-id-1 div.sk-parallel-item:only-child::after {width: 0;}#sk-container-id-1 div.sk-dashed-wrapped {border: 1px dashed gray;margin: 0 0.4em 0.5em 0.4em;box-sizing: border-box;padding-bottom: 0.4em;background-color: white;}#sk-container-id-1 div.sk-label label {font-family: monospace;font-weight: bold;display: inline-block;line-height: 1.2em;}#sk-container-id-1 div.sk-label-container {text-align: center;}#sk-container-id-1 div.sk-container {/* jupyter's `normalize.less` sets `[hidden] { display: none; }` but bootstrap.min.css set `[hidden] { display: none !important; }` so we also need the `!important` here to be able to override the default hidden behavior on the sphinx rendered scikit-learn.org. See: https://github.com/scikit-learn/scikit-learn/issues/21755 */display: inline-block !important;position: relative;}#sk-container-id-1 div.sk-text-repr-fallback {display: none;}</style><div id=\"sk-container-id-1\" class=\"sk-top-container\"><div class=\"sk-text-repr-fallback\"><pre>LogisticRegression()</pre><b>In a Jupyter environment, please rerun this cell to show the HTML representation or trust the notebook. <br />On GitHub, the HTML representation is unable to render, please try loading this page with nbviewer.org.</b></div><div class=\"sk-container\" hidden><div class=\"sk-item\"><div class=\"sk-estimator sk-toggleable\"><input class=\"sk-toggleable__control sk-hidden--visually\" id=\"sk-estimator-id-1\" type=\"checkbox\" checked><label for=\"sk-estimator-id-1\" class=\"sk-toggleable__label sk-toggleable__label-arrow\">LogisticRegression</label><div class=\"sk-toggleable__content\"><pre>LogisticRegression()</pre></div></div></div></div></div>"
      ],
      "text/plain": [
       "LogisticRegression()"
      ]
     },
     "execution_count": 28,
     "metadata": {},
     "output_type": "execute_result"
    }
   ],
   "source": [
    "# Step 8: Train the model\n",
    "model.fit(X_train_scaled, Y_train)"
   ]
  },
  {
   "cell_type": "code",
   "execution_count": 29,
   "id": "19af9000-ffad-4a74-98d2-8a16f205b014",
   "metadata": {},
   "outputs": [
    {
     "name": "stdout",
     "output_type": "stream",
     "text": [
      "Accuracy: 1.0\n"
     ]
    }
   ],
   "source": [
    "#Step 9: Evaluate model on testing set:\n",
    "y_pred = model.predict(X_test_scaled)\n",
    "accuracy = accuracy_score(Y_test, y_pred)\n",
    "print(\"Accuracy:\", accuracy)"
   ]
  },
  {
   "cell_type": "code",
   "execution_count": 36,
   "id": "1beefaaf-4e73-4621-ab70-97f79df90d73",
   "metadata": {},
   "outputs": [
    {
     "name": "stdout",
     "output_type": "stream",
     "text": [
      "  firmness  hue saturation brightness color_category sound_db weight_g  \\\n",
      "0     88.0   65         78         48     dark green       77      255   \n",
      "1     30.5  290         50         33         purple       59      175   \n",
      "\n",
      "  size_cm3  \n",
      "0      185  \n",
      "1      155  \n"
     ]
    }
   ],
   "source": [
    "#Step 10: Sample new data\n",
    "new_data_np = np.array([\n",
    "    [88.0, 65, 78, 48, 'dark green', 77, 255, 185],  # Sample 1\n",
    "    [30.5, 290, 50, 33, 'purple', 59, 175, 155]      # Sample 2\n",
    "], dtype=object)\n",
    "\n",
    "original_feature_order = ['firmness', 'hue', 'saturation', 'brightness', 'color_category', 'sound_db', 'weight_g', 'size_cm3']\n",
    "\n",
    "new_data_df = pd.DataFrame(new_data_np, columns=original_feature_order)\n",
    "print(new_data_df)\n",
    "\n",
    "# Transform new data\n",
    "new_data_scaled = preprocessor.transform(new_data_df)\n",
    "\n",
    "# Predict ripeness for both samples\n",
    "predictions = model.predict(new_data_scaled)\n"
   ]
  },
  {
   "cell_type": "code",
   "execution_count": 37,
   "id": "6fa39ed5-591a-4148-b896-e590852be5c4",
   "metadata": {},
   "outputs": [
    {
     "name": "stdout",
     "output_type": "stream",
     "text": [
      "Avocado Sample 1 → Predicted Ripeness: hard\n",
      "Avocado Sample 2 → Predicted Ripeness: breaking\n"
     ]
    }
   ],
   "source": [
    "#Step 11: Print predicted classes\n",
    "for i, pred in enumerate(predictions, start=1):\n",
    "    print(f\"Avocado Sample {i} → Predicted Ripeness: {pred}\")"
   ]
  },
  {
   "cell_type": "code",
   "execution_count": null,
   "id": "fd07b17e-6e0d-4f2f-b972-cf90192b1255",
   "metadata": {},
   "outputs": [],
   "source": []
  }
 ],
 "metadata": {
  "kernelspec": {
   "display_name": "anaconda-ai-2024.04-py310",
   "language": "python",
   "name": "conda-env-anaconda-ai-2024.04-py310-py"
  },
  "language_info": {
   "codemirror_mode": {
    "name": "ipython",
    "version": 3
   },
   "file_extension": ".py",
   "mimetype": "text/x-python",
   "name": "python",
   "nbconvert_exporter": "python",
   "pygments_lexer": "ipython3",
   "version": "3.10.13"
  }
 },
 "nbformat": 4,
 "nbformat_minor": 5
}
